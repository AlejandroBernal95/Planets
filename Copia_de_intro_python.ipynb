{
  "cells": [
    {
      "cell_type": "markdown",
      "metadata": {
        "id": "view-in-github",
        "colab_type": "text"
      },
      "source": [
        "<a href=\"https://colab.research.google.com/github/AlejandroBernal95/Planets/blob/main/Copia_de_intro_python.ipynb\" target=\"_parent\"><img src=\"https://colab.research.google.com/assets/colab-badge.svg\" alt=\"Open In Colab\"/></a>"
      ]
    },
    {
      "cell_type": "markdown",
      "metadata": {
        "id": "8V8fPnakJR3J"
      },
      "source": [
        "<a href=\"https://colab.research.google.com/github/mcd-unison/material-programacion/blob/main/intro-python.ipynb\" target=\"_parent\"><img src=\"https://colab.research.google.com/assets/colab-badge.svg\" alt=\"Open In Colab\"/></a>"
      ]
    },
    {
      "cell_type": "markdown",
      "metadata": {
        "id": "6fhPByFfJR3P"
      },
      "source": [
        "<center>\n",
        "<p><img src=\"https://mcd.unison.mx/wp-content/themes/awaken/img/logo_mcd.png\" width=\"100\">\n",
        "</p>\n",
        "\n",
        "\n",
        "\n",
        "# Curso Propedéutico en *Programación*\n",
        "\n",
        "## Introducción a `python` resolviendo preguntas\n",
        "\n",
        "\n",
        "**Julio Waissman Vilanova**\n",
        "\n"
      ]
    },
    {
      "cell_type": "markdown",
      "metadata": {
        "id": "0xyexlr_JR3Q"
      },
      "source": [
        "### Tipos\n",
        "\n",
        "¿Cuales son los tipos de datos básicos? Revisa los tipos siguientes:\n",
        "\n",
        "1. Tipos numéricos `int`, `float`, `complex`\n",
        "2. Cadenas de caracteres\n",
        "3. Tuplas\n",
        "4. Listas\n",
        "5. Diccionarios\n",
        "6. Conjuntos\n",
        "\n",
        "Da ejemplo de sobrecarga de operadores (en particular `+` y `*`)\n",
        "\n"
      ]
    },
    {
      "cell_type": "code",
      "execution_count": null,
      "metadata": {
        "id": "W6RKIfU9JR3R",
        "outputId": "a11ed379-3cd2-4d34-8ac7-81e9a5374317",
        "colab": {
          "base_uri": "https://localhost:8080/"
        }
      },
      "outputs": [
        {
          "output_type": "stream",
          "name": "stdout",
          "text": [
            "5\n",
            "6\n",
            "5.8598\n",
            "8.53949712\n",
            "(6+5j)\n",
            "(2+16j)\n",
            "Hola Mundo!\n",
            "Hola Hola Hola Hola \n",
            "(1, 2, 3, 4, 5, 6, 7, 8, 9, 10)\n",
            "(1, 2, 3, 4, 5, 1, 2, 3, 4, 5)\n",
            "[11, 12, 13, 14, 15, 16, 17, 18, 19, 20]\n",
            "[11, 12, 13, 14, 15, 11, 12, 13, 14, 15]\n"
          ]
        }
      ],
      "source": [
        "#### Tipos numéricos:\n",
        "\n",
        "\n",
        "#int:\n",
        "a = 2\n",
        "b = 3\n",
        "\n",
        "print(a+b)\n",
        "print(a*b)\n",
        "\n",
        "#float:\n",
        "a = 3.1416\n",
        "b = 2.7182\n",
        "\n",
        "print(a+b)\n",
        "print(a*b)\n",
        "\n",
        "#complex:\n",
        "a = 2+3j\n",
        "b = 4+2j\n",
        "\n",
        "print(a+b)\n",
        "print(a*b)\n",
        "\n",
        "\n",
        "\n",
        "\n",
        "#### Cadenas de Caracteres:\n",
        "\n",
        "str1 = \"Hola \"\n",
        "str2 = \"Mundo!\"\n",
        "\n",
        "print(str1 + str2)\n",
        "print(str1*4)\n",
        "\n",
        "\n",
        "\n",
        "\n",
        "### tuplas:\n",
        "\n",
        "tupla1 = (1,2,3,4,5)\n",
        "tupla2 = (6,7,8,9,10)\n",
        "\n",
        "print(tupla1 + tupla2)\n",
        "print(tupla1*2)\n",
        "\n",
        "\n",
        "\n",
        "#### Listas:\n",
        "\n",
        "lista1 = [11,12,13,14,15]\n",
        "lista2 = [16,17,18,19,20]\n",
        "\n",
        "print(lista1 + lista2)\n",
        "print(lista1*2)\n",
        "\n",
        "\n",
        "####\n",
        "\n",
        "# LA SOBRECARGA DE OPERADORES PARA DICCIONARIOS Y CONJUNTOS NO ESTÁ DEFINIDA.\n",
        "\n"
      ]
    },
    {
      "cell_type": "markdown",
      "metadata": {
        "id": "I70sQXOuJR3R"
      },
      "source": [
        "¿Que significa que unos tipos sean *mutables* y otros *inmutables*?\n",
        "\n",
        "Realiza un pequeño programa donde quede claro lo que significa que un tipo de datos sea mutable, e ilustra el uso del método `copy.deepcopy()`."
      ]
    },
    {
      "cell_type": "code",
      "execution_count": null,
      "metadata": {
        "id": "6SNixcVrJR3R",
        "outputId": "327e8c08-637e-4b82-f519-fe43e41c4dac",
        "colab": {
          "base_uri": "https://localhost:8080/"
        }
      },
      "outputs": [
        {
          "output_type": "stream",
          "name": "stdout",
          "text": [
            "Lista original después de modificar la copia superficial: [1, 2, 3, 4]\n",
            "Lista original después de modificar la copia profunda: [1, 2, 3, 4]\n",
            "Lista copia profunda después de ser modificada: [1, 2, 3, 5]\n",
            "x: 10\n"
          ]
        }
      ],
      "source": [
        "import copy\n",
        "\n",
        "# Creamos un objeto mutable\n",
        "lista_original = [1, 2, 3]\n",
        "\n",
        "# Creamos una copia simple del objeto\n",
        "copia_simple = lista_original\n",
        "\n",
        "# Creamos una copia profunda de la lista\n",
        "deep_copy = copy.deepcopy(lista_original)\n",
        "\n",
        "# Modificamos la copia del objeto simple\n",
        "copia_simple.append(4)\n",
        "\n",
        "print(\"Lista original después de modificar la copia superficial:\", lista_original)\n",
        "# Notaremos que la lista original también se ha modificado, ya que ambos nombres hacen referencia al mismo objeto\n",
        "\n",
        "\n",
        "# Modificamos la copia profunda del objeto\n",
        "deep_copy.append(5)\n",
        "\n",
        "print(\"Lista original después de modificar la copia profunda:\", lista_original)\n",
        "# La lista original permanece sin cambios, ya que la copia profunda es una copia independiente\n",
        "\n",
        "\n",
        "print(\"Lista copia profunda después de ser modificada:\", deep_copy)\n",
        "# La lista original permanece sin cambios, ya que la copia profunda es una copia independiente\n",
        "\n",
        "\n",
        "\n",
        "\n",
        "# Ejemplo con tipos de datos inmutables\n",
        "x = 10\n",
        "y = x  # Asignación por valor\n",
        "y += 5\n",
        "print(\"x:\", x)  # x sigue siendo 10, ya que los enteros son inmutables"
      ]
    },
    {
      "cell_type": "markdown",
      "metadata": {
        "id": "NrCcVI2eJR3S"
      },
      "source": [
        "### *Comprehension* de listas, conjuntos y diccionarios\n",
        "\n",
        "Escribe, en una sola linea, una expresión que genere una lista con todos los números enteros que se encuentran entre $1$ y $n$\n",
        "que sean divisibles por $3$ y $7$ y que el dígito menos significativo del número sea $6$."
      ]
    },
    {
      "cell_type": "code",
      "execution_count": null,
      "metadata": {
        "id": "JImDkrLgJR3S",
        "outputId": "f5f4fcbb-4a9a-4e78-835e-76677faa60bd",
        "colab": {
          "base_uri": "https://localhost:8080/"
        }
      },
      "outputs": [
        {
          "output_type": "stream",
          "name": "stdout",
          "text": [
            "[126, 336, 546, 756, 966, 1176, 1386, 1596, 1806, 2016, 2226, 2436, 2646, 2856, 3066, 3276, 3486, 3696, 3906, 4116, 4326, 4536, 4746, 4956, 5166, 5376, 5586, 5796, 6006, 6216, 6426, 6636, 6846, 7056, 7266, 7476, 7686, 7896, 8106, 8316, 8526, 8736, 8946, 9156, 9366, 9576, 9786, 9996]\n"
          ]
        }
      ],
      "source": [
        "n = 10_000\n",
        "\n",
        "print([x for x in range(1, n+1) if x % 3 == 0 and x % 7 == 0 and x % 10 == 6])"
      ]
    },
    {
      "cell_type": "markdown",
      "metadata": {
        "id": "y1SXa4BrJR3T"
      },
      "source": [
        "### Funciones\n",
        "\n",
        "Escribe una función que:\n",
        "\n",
        "1. reciba una lista de elementos (letras, números, lo que sea),\n",
        "2. cuente la ocurrencia de cada elemento en la lista,\n",
        "3. devuelva las ocurrencias en forma de diccionario,\n",
        "4. si imprime es True, imprima un histograma de ocurrencias, por ejemplo:\n",
        "\n",
        "```python\n",
        "\n",
        "lista = [1,'a',1, 13, 'hola', 'a', 1, 1, 'a', 1]\n",
        "\n",
        "d = funcion_ejemplo(lista, imprime = True)\n",
        "\n",
        "1    \t\t***** \t(5 -> 50%)\n",
        "'a'  \t\t***   \t(3 -> 30%)\n",
        "13\t\t*\t(1 -> 10%)\n",
        "'hola'\t\t*\t(1 -> 10%)\n",
        "\n",
        "```"
      ]
    },
    {
      "cell_type": "code",
      "execution_count": null,
      "metadata": {
        "id": "jeCXg2a5JR3U"
      },
      "outputs": [],
      "source": [
        "# Escribe la función aquí\n",
        "def Ocurrencia(lista, imprime):\n",
        "  ocurrencia = {}\n",
        "\n",
        "  for elemento in lista:\n",
        "    if elemento in ocurrencia:\n",
        "      ocurrencia[elemento] += 1\n",
        "    else:\n",
        "      ocurrencia[elemento] = 1\n",
        "\n",
        "\n",
        "  if imprime == True:\n",
        "    for elemento, cantidad in ocurrencia.items():\n",
        "      print(f\"{elemento}: {'*' * cantidad} ({cantidad} -> {cantidad * 100 / len(lista)}%)\")\n",
        "\n",
        "  return ocurrencia\n",
        "\n"
      ]
    },
    {
      "cell_type": "code",
      "execution_count": null,
      "metadata": {
        "id": "deeRY9LsJR3U",
        "outputId": "fc37d13a-c00e-4fc4-a5ee-8e09419f3d3f",
        "colab": {
          "base_uri": "https://localhost:8080/"
        }
      },
      "outputs": [
        {
          "output_type": "stream",
          "name": "stdout",
          "text": [
            "1: ***** (5 -> 50.0%)\n",
            "a: *** (3 -> 30.0%)\n",
            "13: * (1 -> 10.0%)\n",
            "hola: * (1 -> 10.0%)\n",
            "{1: 5, 'a': 3, 13: 1, 'hola': 1}\n"
          ]
        }
      ],
      "source": [
        "# Realiza pruebas aquí\n",
        "lista = [1,'a',1, 13, 'hola', 'a', 1, 1, 'a',1]\n",
        "d = Ocurrencia(lista, imprime = True)\n",
        "print(d)"
      ]
    },
    {
      "cell_type": "markdown",
      "metadata": {
        "id": "SrkMezbwJR3U"
      },
      "source": [
        "Escribe una función que modifique un diccionario y regrese el diccionario modificado y una copia del original, donde cada entrada\n",
        "del diccionario sea una lista de valores. Ten en cuenta que si una entrada del diccionario es de tipo mutable, al modificarlo en la\n",
        "copia se modifica el original. Utiliza el modulo `copy` para evitar este problema. Ejemplo de la función:\n",
        "\n",
        "```python\n",
        "dic1 = {'Pepe':[12, 'enero', 1980], 'Carolina':[15,'mayo',1975],'Paco':[10,'nov',1970]}\n",
        "dic2 = fundicos(dic1, 'Pepe', 1, 'febrero')\n",
        "\n",
        "print(dic1)\n",
        "{'Pepe':[12, 'enero', 1980], 'Carolina':[15,'mayo',1975],'Paco':[10,'nov',1970]}\n",
        "\n",
        "print(dic2)\n",
        "{'Pepe':[12, 'febrero', 1980], 'Carolina':[15,'mayo',1975],'Paco':[10,'nov',1970]}\n",
        "```"
      ]
    },
    {
      "cell_type": "code",
      "execution_count": null,
      "metadata": {
        "id": "sI2ix2deJR3U"
      },
      "outputs": [],
      "source": [
        "import copy\n",
        "\n",
        "def fundicos(diccionario, clave, indice, valor_nuevo):\n",
        "\n",
        "    dic_copia = copy.deepcopy(diccionario)\n",
        "\n",
        "\n",
        "    if clave in dic_copia and 0 <= indice < len(dic_copia[clave]):\n",
        "        dic_copia[clave][indice] = valor_nuevo\n",
        "\n",
        "\n",
        "    return dic_copia\n"
      ]
    },
    {
      "cell_type": "code",
      "execution_count": null,
      "metadata": {
        "id": "bq4X7uvxJR3V",
        "outputId": "75976d06-0467-4270-f488-32b92d71a5b4",
        "colab": {
          "base_uri": "https://localhost:8080/"
        }
      },
      "outputs": [
        {
          "output_type": "stream",
          "name": "stdout",
          "text": [
            "{'Pepe': [12, 'enero', 1980], 'Carolina': [15, 'mayo', 1975], 'Paco': [10, 'nov', 1970]}\n",
            "{'Pepe': [12, 'enero', '1999'], 'Carolina': [15, 'mayo', 1975], 'Paco': [10, 'nov', 1970]}\n"
          ]
        }
      ],
      "source": [
        "dic1 = {'Pepe':[12, 'enero', 1980], 'Carolina':[15,'mayo',1975],'Paco':[10,'nov',1970]}\n",
        "dic2 = fundicos(dic1, 'Pepe', 2, '1999')\n",
        "\n",
        "print(dic1)\n",
        "print(dic2)"
      ]
    },
    {
      "cell_type": "markdown",
      "metadata": {
        "id": "-68Xsr75JR3V"
      },
      "source": [
        "### Generadores\n",
        "\n",
        "Escribe un generador que reciba una lista y genere todas las permutaciones que se puedan hacer con los elementos de la lista"
      ]
    },
    {
      "cell_type": "code",
      "execution_count": null,
      "metadata": {
        "id": "fXBPcKY7JR3V"
      },
      "outputs": [],
      "source": [
        "# Escribe aqui fun1\n",
        "\n",
        "def permutaciones(lista):\n",
        "    if len(lista) == 0:\n",
        "        yield []\n",
        "    else:\n",
        "        for i in range(len(lista)):\n",
        "            elem = lista[i]\n",
        "            restantes = lista[:i] + lista[i+1:]\n",
        "            for p in permutaciones(restantes):\n",
        "                yield [elem] + p\n"
      ]
    },
    {
      "cell_type": "code",
      "execution_count": null,
      "metadata": {
        "id": "ZqJ4KV8dJR3V",
        "outputId": "1905357c-ce8c-4888-f948-7cc35c056447",
        "colab": {
          "base_uri": "https://localhost:8080/"
        }
      },
      "outputs": [
        {
          "output_type": "stream",
          "name": "stdout",
          "text": [
            "['a', 'b', 'c', 'd']\n",
            "['a', 'b', 'd', 'c']\n",
            "['a', 'c', 'b', 'd']\n",
            "['a', 'c', 'd', 'b']\n",
            "['a', 'd', 'b', 'c']\n",
            "['a', 'd', 'c', 'b']\n",
            "['b', 'a', 'c', 'd']\n",
            "['b', 'a', 'd', 'c']\n",
            "['b', 'c', 'a', 'd']\n",
            "['b', 'c', 'd', 'a']\n",
            "['b', 'd', 'a', 'c']\n",
            "['b', 'd', 'c', 'a']\n",
            "['c', 'a', 'b', 'd']\n",
            "['c', 'a', 'd', 'b']\n",
            "['c', 'b', 'a', 'd']\n",
            "['c', 'b', 'd', 'a']\n",
            "['c', 'd', 'a', 'b']\n",
            "['c', 'd', 'b', 'a']\n",
            "['d', 'a', 'b', 'c']\n",
            "['d', 'a', 'c', 'b']\n",
            "['d', 'b', 'a', 'c']\n",
            "['d', 'b', 'c', 'a']\n",
            "['d', 'c', 'a', 'b']\n",
            "['d', 'c', 'b', 'a']\n"
          ]
        }
      ],
      "source": [
        "# Realiza pruebas de fun2 aquí\n",
        "for p in permutaciones(['a', 'b', 'c', 'd']):\n",
        "    print(p)"
      ]
    },
    {
      "cell_type": "markdown",
      "metadata": {
        "id": "8X5IcSU6JR3V"
      },
      "source": [
        "Ahora escribe una funcipn que reciba 4 digitos del 0 al 9, y devuelva una lista con todas las horas váidas que se puedan hacer con estos dígitos en forma de lista de strings con la forma `\"HH:MM\"`."
      ]
    },
    {
      "cell_type": "code",
      "execution_count": null,
      "metadata": {
        "id": "IiSEQ63zJR3W"
      },
      "outputs": [],
      "source": [
        "def horas_validas(lista):\n",
        "\n",
        "  if len(lista) != 4:\n",
        "        raise ValueError(\"Se requieren exactamente 4 dígitos.\")\n",
        "\n",
        "  posibles_horas = set()\n",
        "\n",
        "  for perm in permutaciones(lista):\n",
        "        hh = int(f\"{perm[0]}{perm[1]}\")\n",
        "        mm = int(f\"{perm[2]}{perm[3]}\")\n",
        "        if 0 <= hh < 24 and 0 <= mm < 60:\n",
        "            posibles_horas.add(f\"{hh:02}:{mm:02}\")\n",
        "\n",
        "  return sorted(posibles_horas)"
      ]
    },
    {
      "cell_type": "markdown",
      "metadata": {
        "id": "i4oTLik3JR3W"
      },
      "source": [
        "Validando:"
      ]
    },
    {
      "cell_type": "code",
      "execution_count": null,
      "metadata": {
        "id": "YYNGxNVfJR3W",
        "outputId": "bff2b627-5c4d-4692-e9f3-21684c65f915",
        "colab": {
          "base_uri": "https://localhost:8080/"
        }
      },
      "outputs": [
        {
          "output_type": "stream",
          "name": "stdout",
          "text": [
            "['12:34', '12:43', '13:24', '13:42', '14:23', '14:32', '21:34', '21:43', '23:14', '23:41']\n"
          ]
        }
      ],
      "source": [
        "print(horas_validas([1,2,3,4]))"
      ]
    },
    {
      "cell_type": "markdown",
      "metadata": {
        "id": "amj59U_zJR3W"
      },
      "source": [
        "Escribe una función, lo más compacta posible, que escoja entre los 3 patrones ascii a continuación, e imprima en pantalla\n",
        "el deseado, pero de dimensión $n$ ($n \\ge 4$), toma en cuanta que para algunos valores de $n$ habrá\n",
        "algún(os) patrones que no se puedan hacer.\n",
        "\n",
        "```\n",
        "          *             ++++           oooooooo\n",
        "          **            ++++           ooo  ooo\n",
        "          ***           ++++           oo    oo\n",
        "          ****          ++++           o      o\n",
        "          *****             ++++       o      o\n",
        "          ******            ++++       oo    oo\n",
        "          *******           ++++       ooo  ooo\n",
        "          ********          ++++       oooooooo\n",
        "\n",
        "```"
      ]
    },
    {
      "cell_type": "code",
      "execution_count": null,
      "metadata": {
        "id": "jH3vvhPBJR3W"
      },
      "outputs": [],
      "source": [
        "def imprimir(patron, n):\n",
        "    if n < 4:\n",
        "        raise ValueError(\"Se requiere que n sea al menos 4\")\n",
        "\n",
        "    if patron != '*' and patron != '+' and patron != 'o':\n",
        "        raise ValueError(\"Patron no valido\")\n",
        "\n",
        "    if patron == '*':\n",
        "        for i in range(n):\n",
        "            print('*'*(i+1))\n",
        "    elif patron == '+':\n",
        "        for i in range(n):\n",
        "          if i % 8 <= 3:\n",
        "            print('+' *4)\n",
        "          else:\n",
        "            print(' '*4 + '+'*4)\n",
        "    elif patron == 'o' and n % 2 == 0:\n",
        "        for i in range(n):\n",
        "            if i < n // 2:\n",
        "                print('o' * (n - i) + ' ' * (2 * i) + 'o' * (n - i))\n",
        "            else:\n",
        "                print('o' * (i + 1) + ' ' * (2 * (n - i - 1)) + 'o' * (i + 1))\n",
        "    else:\n",
        "        print(\"n para este patrón debe de ser par\")"
      ]
    },
    {
      "cell_type": "code",
      "execution_count": null,
      "metadata": {
        "id": "QeZadJm-JR3W",
        "outputId": "5c3e0501-92a7-4bd8-cae3-93686be0219b",
        "colab": {
          "base_uri": "https://localhost:8080/"
        }
      },
      "outputs": [
        {
          "output_type": "stream",
          "name": "stdout",
          "text": [
            "oooooooooooooooooooo\n",
            "ooooooooo  ooooooooo\n",
            "oooooooo    oooooooo\n",
            "ooooooo      ooooooo\n",
            "oooooo        oooooo\n",
            "oooooo        oooooo\n",
            "ooooooo      ooooooo\n",
            "oooooooo    oooooooo\n",
            "ooooooooo  ooooooooo\n",
            "oooooooooooooooooooo\n",
            "\n",
            "++++\n",
            "++++\n",
            "++++\n",
            "++++\n",
            "    ++++\n",
            "    ++++\n",
            "    ++++\n",
            "    ++++\n",
            "++++\n",
            "++++\n",
            "++++\n",
            "++++\n",
            "    ++++\n",
            "    ++++\n",
            "    ++++\n",
            "    ++++\n",
            "\n",
            "*\n",
            "**\n",
            "***\n",
            "****\n",
            "*****\n",
            "******\n",
            "*******\n",
            "********\n",
            "*********\n",
            "**********\n",
            "***********\n",
            "************\n",
            "*************\n"
          ]
        }
      ],
      "source": [
        "imprimir('o',10)\n",
        "print('')\n",
        "imprimir('+',16)\n",
        "print('')\n",
        "imprimir('*',13)\n"
      ]
    },
    {
      "cell_type": "markdown",
      "metadata": {
        "id": "Z6dfLt7oJR3W"
      },
      "source": [
        "### Clases y objetos\n",
        "\n",
        "Diseña una clase Matriz con las siguientes características:\n",
        "\n",
        "1. Como inicialización de un objeto es necesario conocer $n$, $m$ y tipo. En caso de no proporcionar $m$ la matriz se asume cuadrada de $n \\times n$. En caso de no proporcionar $n$ la matriz tendrá una dimensión de $1 \\times 1$.\n",
        "2. De no especificarse todos los elementos se inicializan a 0, a menos que exista un tipo especial ( `unos` o `diag` por el momento).\n",
        "3. Implementa con sobrecarga la suma de matrices, la multiplicación de matrices y la multiplicación por un escalar.\n",
        "4. Implementa como métodos eliminar columna y eliminar fila.   \n",
        "5. Programa la representación visual de la matriz.\n",
        "6. Ten en cuenta tambien el manejo de errores.\n",
        "\n",
        "\n",
        "Ejemplo de uso:\n",
        "\n",
        "```\n",
        ">>> A = Matriz(n=3, m=4)\n",
        "\n",
        ">>> print(A)\n",
        "0 0 0 0\n",
        "0 0 0 0\n",
        "0 0 0 0\n",
        "\n",
        ">>> A = A.quitafila(2)\n",
        "\n",
        ">>> print(A)\n",
        "0 0 0 0\n",
        "0 0 0 0\n",
        "\n",
        ">>> B = Matriz(4,4,'diag')\n",
        "\n",
        ">>> print(B)\n",
        "1 0 0 0\n",
        "0 1 0 0\n",
        "0 0 1 0\n",
        "0 0 0 1\n",
        "\n",
        ">>> C = Matriz(4,1,'unos')\n",
        "\n",
        ">>> print(C)\n",
        "1\n",
        "1\n",
        "1\n",
        "1\n",
        "\n",
        ">>> D = 3 * B * C\n",
        "\n",
        ">>> print(D)\n",
        "3\n",
        "3\n",
        "3\n",
        "3\n",
        "\n",
        ">>> E = 3 * B + C\n",
        "error \"No seas menso, si no son de la misma dimensión las matrices no se pueden sumar\"\n",
        "```"
      ]
    },
    {
      "cell_type": "code",
      "execution_count": null,
      "metadata": {
        "id": "RLZkZ2nMJR3X"
      },
      "outputs": [],
      "source": [
        "class Matriz:\n",
        "    def __init__(self, n=1, m=None, tipo='normal'):\n",
        "        if tipo not in ['normal', 'unos', 'diag']:\n",
        "            raise ValueError(\"Tipo de matriz no válido.\")\n",
        "\n",
        "        self.n = n\n",
        "        self.m = m if m is not None else n\n",
        "        self.tipo = tipo\n",
        "\n",
        "        if self.tipo == 'normal':\n",
        "            self.matriz = [[0] * self.m for _ in range(self.n)]\n",
        "        elif self.tipo == 'unos':\n",
        "            self.matriz = [[1] * self.m for _ in range(self.n)]\n",
        "        elif self.tipo == 'diag':\n",
        "            self.matriz = [[1 if i == j else 0 for j in range(self.m)] for i in range(self.n)]\n",
        "\n",
        "    def __repr__(self):\n",
        "        return '\\n'.join([' '.join(map(str, fila)) for fila in self.matriz])\n",
        "\n",
        "    def __add__(self, otra_matriz):\n",
        "        if self.n != otra_matriz.n or self.m != otra_matriz.m:\n",
        "            raise ValueError(\"No seas menso, si no son de la misma dimensión las matrices no se pueden sumar.\")\n",
        "\n",
        "        resultado = Matriz(self.n, self.m)\n",
        "        resultado.matriz = [[self.matriz[i][j] + otra_matriz.matriz[i][j] for j in range(self.m)] for i in range(self.n)]\n",
        "        return resultado\n",
        "\n",
        "    def __mul__(self, otra):\n",
        "        if isinstance(otra, int):\n",
        "            resultado = Matriz(self.n, self.m)\n",
        "            resultado.matriz = [[self.matriz[i][j] * otra for j in range(self.m)] for i in range(self.n)]\n",
        "            return resultado\n",
        "        elif isinstance(otra, Matriz):\n",
        "            if self.m != otra.n:\n",
        "                raise ValueError(\"No seas menso, no se pueden multiplicar las matrices si el número de columnas de la primera no es igual al número de filas de la segunda.\")\n",
        "\n",
        "            resultado = Matriz(self.n, otra.m)\n",
        "            for i in range(self.n):\n",
        "                for j in range(otra.m):\n",
        "                    for k in range(self.m):\n",
        "                        resultado.matriz[i][j] += self.matriz[i][k] * otra.matriz[k][j]\n",
        "            return resultado\n",
        "\n",
        "    def quitafila(self, indice):\n",
        "        if indice < 0 or indice >= self.n:\n",
        "            raise ValueError(\"Índice de fila fuera de rango.\")\n",
        "\n",
        "        nueva_matriz = [fila[:] for fila in self.matriz]\n",
        "        del nueva_matriz[indice]\n",
        "\n",
        "        resultado = Matriz(len(nueva_matriz), len(nueva_matriz[0]))\n",
        "        resultado.matriz = nueva_matriz\n",
        "        return resultado\n",
        "\n",
        "    def quitacolumna(self, indice):\n",
        "        if indice < 0 or indice >= self.m:\n",
        "            raise ValueError(\"Índice de columna fuera de rango.\")\n",
        "\n",
        "        nueva_matriz = [fila[:indice] + fila[indice + 1:] for fila in self.matriz]\n",
        "\n",
        "        resultado = Matriz(len(nueva_matriz), len(nueva_matriz[0]))\n",
        "        resultado.matriz = nueva_matriz\n",
        "        return resultado\n",
        "\n",
        "    def __rmul__(self, escalar):\n",
        "        if isinstance(escalar, int):\n",
        "            resultado = Matriz(self.n, self.m)\n",
        "            resultado.matriz = [[self.matriz[i][j] * escalar for j in range(self.m)] for i in range(self.n)]\n",
        "            return resultado"
      ]
    },
    {
      "cell_type": "code",
      "execution_count": null,
      "metadata": {
        "id": "sFcTyrDmJR3X",
        "outputId": "9f554e42-b1e4-47c0-b756-08ef1bc2c0b7",
        "colab": {
          "base_uri": "https://localhost:8080/",
          "height": 646
        }
      },
      "outputs": [
        {
          "output_type": "stream",
          "name": "stdout",
          "text": [
            "A = 0 0 0 0\n",
            "0 0 0 0\n",
            "0 0 0 0\n",
            "A =  0 0 0 0\n",
            "0 0 0 0\n",
            "B =  1 0 0 0\n",
            "0 1 0 0\n",
            "0 0 1 0\n",
            "0 0 0 1\n",
            "C = 1\n",
            "1\n",
            "1\n",
            "1\n",
            "D =  3\n",
            "3\n",
            "3\n",
            "3\n"
          ]
        },
        {
          "output_type": "error",
          "ename": "ValueError",
          "evalue": "No seas menso, si no son de la misma dimensión las matrices no se pueden sumar.",
          "traceback": [
            "\u001b[0;31m---------------------------------------------------------------------------\u001b[0m",
            "\u001b[0;31mValueError\u001b[0m                                Traceback (most recent call last)",
            "\u001b[0;32m<ipython-input-114-8e6d3444aee0>\u001b[0m in \u001b[0;36m<cell line: 18>\u001b[0;34m()\u001b[0m\n\u001b[1;32m     16\u001b[0m \u001b[0mprint\u001b[0m\u001b[0;34m(\u001b[0m\u001b[0;34m'D = '\u001b[0m\u001b[0;34m,\u001b[0m \u001b[0mD\u001b[0m\u001b[0;34m)\u001b[0m\u001b[0;34m\u001b[0m\u001b[0;34m\u001b[0m\u001b[0m\n\u001b[1;32m     17\u001b[0m \u001b[0;34m\u001b[0m\u001b[0m\n\u001b[0;32m---> 18\u001b[0;31m \u001b[0mE\u001b[0m \u001b[0;34m=\u001b[0m \u001b[0;36m3\u001b[0m \u001b[0;34m*\u001b[0m \u001b[0mB\u001b[0m \u001b[0;34m+\u001b[0m \u001b[0mC\u001b[0m\u001b[0;34m\u001b[0m\u001b[0;34m\u001b[0m\u001b[0m\n\u001b[0m\u001b[1;32m     19\u001b[0m \u001b[0mprint\u001b[0m\u001b[0;34m(\u001b[0m\u001b[0;34m'E = '\u001b[0m\u001b[0;34m,\u001b[0m \u001b[0mE\u001b[0m\u001b[0;34m)\u001b[0m\u001b[0;34m\u001b[0m\u001b[0;34m\u001b[0m\u001b[0m\n",
            "\u001b[0;32m<ipython-input-113-cf3d4158e497>\u001b[0m in \u001b[0;36m__add__\u001b[0;34m(self, otra_matriz)\u001b[0m\n\u001b[1;32m     20\u001b[0m     \u001b[0;32mdef\u001b[0m \u001b[0m__add__\u001b[0m\u001b[0;34m(\u001b[0m\u001b[0mself\u001b[0m\u001b[0;34m,\u001b[0m \u001b[0motra_matriz\u001b[0m\u001b[0;34m)\u001b[0m\u001b[0;34m:\u001b[0m\u001b[0;34m\u001b[0m\u001b[0;34m\u001b[0m\u001b[0m\n\u001b[1;32m     21\u001b[0m         \u001b[0;32mif\u001b[0m \u001b[0mself\u001b[0m\u001b[0;34m.\u001b[0m\u001b[0mn\u001b[0m \u001b[0;34m!=\u001b[0m \u001b[0motra_matriz\u001b[0m\u001b[0;34m.\u001b[0m\u001b[0mn\u001b[0m \u001b[0;32mor\u001b[0m \u001b[0mself\u001b[0m\u001b[0;34m.\u001b[0m\u001b[0mm\u001b[0m \u001b[0;34m!=\u001b[0m \u001b[0motra_matriz\u001b[0m\u001b[0;34m.\u001b[0m\u001b[0mm\u001b[0m\u001b[0;34m:\u001b[0m\u001b[0;34m\u001b[0m\u001b[0;34m\u001b[0m\u001b[0m\n\u001b[0;32m---> 22\u001b[0;31m             \u001b[0;32mraise\u001b[0m \u001b[0mValueError\u001b[0m\u001b[0;34m(\u001b[0m\u001b[0;34m\"No seas menso, si no son de la misma dimensión las matrices no se pueden sumar.\"\u001b[0m\u001b[0;34m)\u001b[0m\u001b[0;34m\u001b[0m\u001b[0;34m\u001b[0m\u001b[0m\n\u001b[0m\u001b[1;32m     23\u001b[0m \u001b[0;34m\u001b[0m\u001b[0m\n\u001b[1;32m     24\u001b[0m         \u001b[0mresultado\u001b[0m \u001b[0;34m=\u001b[0m \u001b[0mMatriz\u001b[0m\u001b[0;34m(\u001b[0m\u001b[0mself\u001b[0m\u001b[0;34m.\u001b[0m\u001b[0mn\u001b[0m\u001b[0;34m,\u001b[0m \u001b[0mself\u001b[0m\u001b[0;34m.\u001b[0m\u001b[0mm\u001b[0m\u001b[0;34m)\u001b[0m\u001b[0;34m\u001b[0m\u001b[0;34m\u001b[0m\u001b[0m\n",
            "\u001b[0;31mValueError\u001b[0m: No seas menso, si no son de la misma dimensión las matrices no se pueden sumar."
          ]
        }
      ],
      "source": [
        "# Realiza las pruebas a la clase aquí\n",
        "\n",
        "A = Matriz(n=3, m=4)\n",
        "print('A =', A)\n",
        "\n",
        "A = A.quitafila(2)\n",
        "print('A = ', A)\n",
        "\n",
        "B = Matriz(4,4,'diag')\n",
        "print('B = ', B)\n",
        "\n",
        "C = Matriz(4,1,'unos')\n",
        "print('C =', C)\n",
        "\n",
        "D = 3 * B * C\n",
        "print('D = ', D)\n",
        "\n",
        "E = 3 * B + C\n",
        "print('E = ', E)"
      ]
    }
  ],
  "metadata": {
    "kernelspec": {
      "display_name": "ing-caract",
      "language": "python",
      "name": "python3"
    },
    "language_info": {
      "codemirror_mode": {
        "name": "ipython",
        "version": 3
      },
      "file_extension": ".py",
      "mimetype": "text/x-python",
      "name": "python",
      "nbconvert_exporter": "python",
      "pygments_lexer": "ipython3",
      "version": "3.8.13"
    },
    "orig_nbformat": 4,
    "colab": {
      "provenance": [],
      "include_colab_link": true
    }
  },
  "nbformat": 4,
  "nbformat_minor": 0
}